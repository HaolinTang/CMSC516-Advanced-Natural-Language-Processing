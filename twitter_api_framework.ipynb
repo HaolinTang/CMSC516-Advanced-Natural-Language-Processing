{
  "nbformat": 4,
  "nbformat_minor": 0,
  "metadata": {
    "colab": {
      "provenance": []
    },
    "kernelspec": {
      "name": "python3",
      "display_name": "Python 3"
    },
    "language_info": {
      "name": "python"
    }
  },
  "cells": [
    {
      "cell_type": "code",
      "source": [
        "import tweepy\n",
        "from tweepy import *\n",
        "import pandas as pd\n",
        "import csv\n",
        "import re \n",
        "import string\n",
        " \n",
        "consumer_key = \"cRR6iEZH6RXZY13rSaeCL5clJ\"\n",
        "consumer_secret = \"le7pmHaXmGrIymEYQ6JOZf1938xHzL4JPgR6wF8YkhPkt1FXnS\"\n",
        "access_key= \"1565416428257169410-gDKdun1YBJjMFBqwqYqNkAuFQNy8XM\"\n",
        "access_secret = \"hiHUlsBlj9AlfeMvTjaaZiGRizg00xTgezjcfbUhkWWAA\"\n",
        "\n",
        "auth = tweepy.OAuthHandler(consumer_key, consumer_secret)\n",
        "auth.set_access_token(access_key, access_secret)\n",
        " \n",
        "api = tweepy.API(auth,wait_on_rate_limit=True)\n",
        " \n",
        "csvFile = open('C:\\\\Users\\\\NLP\\\\Iphone14.csv', 'w')\n",
        "csvWriter = csv.writer(csvFile)\n",
        "\n",
        "search_words = \"#Iphone14\"      # enter your words\n",
        " \n",
        "for tweet in tweepy.Cursor(api.search_tweets,q=search_words,count=100,\n",
        "                           lang=\"en\",\n",
        "                           since_id=0).items(100):\n",
        "    csvWriter.writerow([tweet.created_at, tweet.text.encode('utf-8'),tweet.user.screen_name.encode('utf-8'), tweet.user.location.encode('utf-8')])"
      ],
      "metadata": {
        "id": "ARTrHqHUQ_oI"
      },
      "execution_count": null,
      "outputs": []
    }
  ]
}